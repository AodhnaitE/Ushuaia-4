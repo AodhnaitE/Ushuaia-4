{
 "cells": [
  {
   "cell_type": "code",
   "execution_count": 18,
   "id": "259e418f",
   "metadata": {},
   "outputs": [],
   "source": [
    "#Importing Dependcies\n",
    "\n",
    "#from \n",
    "import numpy as np \n",
    "import pandas as pd \n",
    "import matplotlib.pyplot as plt\n",
    "import seaborn as sns\n",
    "import warnings \n",
    "warnings.simplefilter(\"ignore\")\n",
    "from flask import request\n",
    "\n",
    "#Libraries to create the multiclass model\n",
    "from keras.models import Sequential\n",
    "from keras.layers import Dense\n",
    "from keras.wrappers.scikit_learn import KerasClassifier\n",
    "from keras.utils import np_utils\n",
    "\n",
    "#Import tensorflow and disable the v2 behavior and eager mode\n",
    "import tensorflow as tf\n",
    "tf.compat.v1.disable_eager_execution()\n",
    "tf.compat.v1.disable_v2_behavior()\n",
    "\n",
    "#Library to validate the model\n",
    "from sklearn.model_selection import cross_val_score, KFold, train_test_split\n",
    "from sklearn.preprocessing import LabelEncoder,MinMaxScaler\n",
    "from sklearn.pipeline import Pipeline\n",
    "from sklearn.metrics import confusion_matrix, accuracy_score\n"
   ]
  },
  {
   "cell_type": "code",
   "execution_count": 13,
   "id": "5346aee0",
   "metadata": {},
   "outputs": [
    {
     "data": {
      "text/html": [
       "<div>\n",
       "<style scoped>\n",
       "    .dataframe tbody tr th:only-of-type {\n",
       "        vertical-align: middle;\n",
       "    }\n",
       "\n",
       "    .dataframe tbody tr th {\n",
       "        vertical-align: top;\n",
       "    }\n",
       "\n",
       "    .dataframe thead th {\n",
       "        text-align: right;\n",
       "    }\n",
       "</style>\n",
       "<table border=\"1\" class=\"dataframe\">\n",
       "  <thead>\n",
       "    <tr style=\"text-align: right;\">\n",
       "      <th></th>\n",
       "      <th>name</th>\n",
       "      <th>album</th>\n",
       "      <th>artist</th>\n",
       "      <th>id</th>\n",
       "      <th>release_date</th>\n",
       "      <th>popularity</th>\n",
       "      <th>length</th>\n",
       "      <th>danceability</th>\n",
       "      <th>acousticness</th>\n",
       "      <th>energy</th>\n",
       "      <th>instrumentalness</th>\n",
       "      <th>liveness</th>\n",
       "      <th>valence</th>\n",
       "      <th>loudness</th>\n",
       "      <th>speechiness</th>\n",
       "      <th>tempo</th>\n",
       "      <th>key</th>\n",
       "      <th>time_signature</th>\n",
       "      <th>mood</th>\n",
       "    </tr>\n",
       "  </thead>\n",
       "  <tbody>\n",
       "    <tr>\n",
       "      <th>0</th>\n",
       "      <td>1999</td>\n",
       "      <td>1999</td>\n",
       "      <td>Prince</td>\n",
       "      <td>2H7PHVdQ3mXqEHXcvclTB0</td>\n",
       "      <td>1982-10-27</td>\n",
       "      <td>68</td>\n",
       "      <td>379266</td>\n",
       "      <td>0.866</td>\n",
       "      <td>0.13700</td>\n",
       "      <td>0.730</td>\n",
       "      <td>0.000000</td>\n",
       "      <td>0.0843</td>\n",
       "      <td>0.625</td>\n",
       "      <td>-8.201</td>\n",
       "      <td>0.0767</td>\n",
       "      <td>118.523</td>\n",
       "      <td>5</td>\n",
       "      <td>4</td>\n",
       "      <td>Happy</td>\n",
       "    </tr>\n",
       "    <tr>\n",
       "      <th>1</th>\n",
       "      <td>23</td>\n",
       "      <td>23</td>\n",
       "      <td>Blonde Redhead</td>\n",
       "      <td>4HIwL9ii9CcXpTOTzMq0MP</td>\n",
       "      <td>2007-04-16</td>\n",
       "      <td>43</td>\n",
       "      <td>318800</td>\n",
       "      <td>0.381</td>\n",
       "      <td>0.01890</td>\n",
       "      <td>0.832</td>\n",
       "      <td>0.196000</td>\n",
       "      <td>0.1530</td>\n",
       "      <td>0.166</td>\n",
       "      <td>-5.069</td>\n",
       "      <td>0.0492</td>\n",
       "      <td>120.255</td>\n",
       "      <td>8</td>\n",
       "      <td>4</td>\n",
       "      <td>Sad</td>\n",
       "    </tr>\n",
       "    <tr>\n",
       "      <th>2</th>\n",
       "      <td>9 Crimes</td>\n",
       "      <td>9</td>\n",
       "      <td>Damien Rice</td>\n",
       "      <td>5GZEeowhvSieFDiR8fQ2im</td>\n",
       "      <td>2006-11-06</td>\n",
       "      <td>60</td>\n",
       "      <td>217946</td>\n",
       "      <td>0.346</td>\n",
       "      <td>0.91300</td>\n",
       "      <td>0.139</td>\n",
       "      <td>0.000077</td>\n",
       "      <td>0.0934</td>\n",
       "      <td>0.116</td>\n",
       "      <td>-15.326</td>\n",
       "      <td>0.0321</td>\n",
       "      <td>136.168</td>\n",
       "      <td>0</td>\n",
       "      <td>4</td>\n",
       "      <td>Sad</td>\n",
       "    </tr>\n",
       "    <tr>\n",
       "      <th>3</th>\n",
       "      <td>99 Luftballons</td>\n",
       "      <td>99 Luftballons</td>\n",
       "      <td>Nena</td>\n",
       "      <td>6HA97v4wEGQ5TUClRM0XLc</td>\n",
       "      <td>1984-08-21</td>\n",
       "      <td>2</td>\n",
       "      <td>233000</td>\n",
       "      <td>0.466</td>\n",
       "      <td>0.08900</td>\n",
       "      <td>0.438</td>\n",
       "      <td>0.000006</td>\n",
       "      <td>0.1130</td>\n",
       "      <td>0.587</td>\n",
       "      <td>-12.858</td>\n",
       "      <td>0.0608</td>\n",
       "      <td>193.100</td>\n",
       "      <td>4</td>\n",
       "      <td>4</td>\n",
       "      <td>Happy</td>\n",
       "    </tr>\n",
       "    <tr>\n",
       "      <th>4</th>\n",
       "      <td>A Boy Brushed Red Living In Black And White</td>\n",
       "      <td>They're Only Chasing Safety</td>\n",
       "      <td>Underoath</td>\n",
       "      <td>47IWLfIKOKhFnz1FUEUIkE</td>\n",
       "      <td>2004-01-01</td>\n",
       "      <td>60</td>\n",
       "      <td>268000</td>\n",
       "      <td>0.419</td>\n",
       "      <td>0.00171</td>\n",
       "      <td>0.932</td>\n",
       "      <td>0.000000</td>\n",
       "      <td>0.1370</td>\n",
       "      <td>0.445</td>\n",
       "      <td>-3.604</td>\n",
       "      <td>0.1060</td>\n",
       "      <td>169.881</td>\n",
       "      <td>1</td>\n",
       "      <td>4</td>\n",
       "      <td>Energetic</td>\n",
       "    </tr>\n",
       "  </tbody>\n",
       "</table>\n",
       "</div>"
      ],
      "text/plain": [
       "                                          name                        album  \\\n",
       "0                                         1999                         1999   \n",
       "1                                           23                           23   \n",
       "2                                     9 Crimes                            9   \n",
       "3                               99 Luftballons               99 Luftballons   \n",
       "4  A Boy Brushed Red Living In Black And White  They're Only Chasing Safety   \n",
       "\n",
       "           artist                      id release_date  popularity  length  \\\n",
       "0          Prince  2H7PHVdQ3mXqEHXcvclTB0   1982-10-27          68  379266   \n",
       "1  Blonde Redhead  4HIwL9ii9CcXpTOTzMq0MP   2007-04-16          43  318800   \n",
       "2     Damien Rice  5GZEeowhvSieFDiR8fQ2im   2006-11-06          60  217946   \n",
       "3            Nena  6HA97v4wEGQ5TUClRM0XLc   1984-08-21           2  233000   \n",
       "4       Underoath  47IWLfIKOKhFnz1FUEUIkE   2004-01-01          60  268000   \n",
       "\n",
       "   danceability  acousticness  energy  instrumentalness  liveness  valence  \\\n",
       "0         0.866       0.13700   0.730          0.000000    0.0843    0.625   \n",
       "1         0.381       0.01890   0.832          0.196000    0.1530    0.166   \n",
       "2         0.346       0.91300   0.139          0.000077    0.0934    0.116   \n",
       "3         0.466       0.08900   0.438          0.000006    0.1130    0.587   \n",
       "4         0.419       0.00171   0.932          0.000000    0.1370    0.445   \n",
       "\n",
       "   loudness  speechiness    tempo  key  time_signature       mood  \n",
       "0    -8.201       0.0767  118.523    5               4      Happy  \n",
       "1    -5.069       0.0492  120.255    8               4        Sad  \n",
       "2   -15.326       0.0321  136.168    0               4        Sad  \n",
       "3   -12.858       0.0608  193.100    4               4      Happy  \n",
       "4    -3.604       0.1060  169.881    1               4  Energetic  "
      ]
     },
     "execution_count": 13,
     "metadata": {},
     "output_type": "execute_result"
    }
   ],
   "source": [
    "# Creating csv path and loading first data in Pandas DataFrame\n",
    "\n",
    "csv_path = (\"data/data_moods.csv\")\n",
    "data_df = pd.read_csv(csv_path)\n",
    "data_df.head()"
   ]
  },
  {
   "cell_type": "markdown",
   "id": "5be50ad9",
   "metadata": {},
   "source": [
    "# Building the model\n",
    "\n",
    "### Pre-processing the data"
   ]
  },
  {
   "cell_type": "code",
   "execution_count": 15,
   "id": "e84ee909",
   "metadata": {},
   "outputs": [],
   "source": [
    "# Normalizing the features using MinMaxScaler to scale our values between a range of [0,1]\n",
    "# we manage to preserve the shape of the original dataset\n",
    "col_features = data_df.columns[6:-3]\n",
    "X= MinMaxScaler().fit_transform(data_df[col_features])\n",
    "X2 = np.array(data_df[col_features])\n",
    "Y = data_df['mood']"
   ]
  },
  {
   "cell_type": "code",
   "execution_count": 16,
   "id": "0a943382",
   "metadata": {},
   "outputs": [
    {
     "data": {
      "text/html": [
       "<div>\n",
       "<style scoped>\n",
       "    .dataframe tbody tr th:only-of-type {\n",
       "        vertical-align: middle;\n",
       "    }\n",
       "\n",
       "    .dataframe tbody tr th {\n",
       "        vertical-align: top;\n",
       "    }\n",
       "\n",
       "    .dataframe thead th {\n",
       "        text-align: right;\n",
       "    }\n",
       "</style>\n",
       "<table border=\"1\" class=\"dataframe\">\n",
       "  <thead>\n",
       "    <tr style=\"text-align: right;\">\n",
       "      <th></th>\n",
       "      <th>mood</th>\n",
       "      <th>encode</th>\n",
       "    </tr>\n",
       "  </thead>\n",
       "  <tbody>\n",
       "    <tr>\n",
       "      <th>5</th>\n",
       "      <td>Calm</td>\n",
       "      <td>0</td>\n",
       "    </tr>\n",
       "    <tr>\n",
       "      <th>4</th>\n",
       "      <td>Energetic</td>\n",
       "      <td>1</td>\n",
       "    </tr>\n",
       "    <tr>\n",
       "      <th>0</th>\n",
       "      <td>Happy</td>\n",
       "      <td>2</td>\n",
       "    </tr>\n",
       "    <tr>\n",
       "      <th>1</th>\n",
       "      <td>Sad</td>\n",
       "      <td>3</td>\n",
       "    </tr>\n",
       "  </tbody>\n",
       "</table>\n",
       "</div>"
      ],
      "text/plain": [
       "        mood  encode\n",
       "5       Calm       0\n",
       "4  Energetic       1\n",
       "0      Happy       2\n",
       "1        Sad       3"
      ]
     },
     "execution_count": 16,
     "metadata": {},
     "output_type": "execute_result"
    }
   ],
   "source": [
    "#Encodethe categories\n",
    "#encoding the 4 categories remembering that the neural network uses numerical values in the tarining and testing processes\n",
    "encoder = LabelEncoder()\n",
    "encoder.fit(Y)\n",
    "encoded_y = encoder.transform(Y)\n",
    "\n",
    "\n",
    "#Convert to  dummy (Not necessary in my case)\n",
    "dummy_y = np_utils.to_categorical(encoded_y)\n",
    "\n",
    "# Splitting  the data by 80% for training and 20% for testing\n",
    "\n",
    "X_train,X_test,Y_train,Y_test = train_test_split(X,encoded_y,test_size=0.2,random_state=15)\n",
    "\n",
    "target = pd.DataFrame({'mood':data_df['mood'].tolist(),'encode':encoded_y}).drop_duplicates().sort_values(['encode'],ascending=True)\n",
    "target\n"
   ]
  },
  {
   "cell_type": "code",
   "execution_count": 17,
   "id": "e426442e",
   "metadata": {},
   "outputs": [],
   "source": [
    "def base_model():\n",
    "    #Create the model\n",
    "    model = Sequential()\n",
    "    #Add 1 layer with 8 nodes,input of 4 dim with relu function\n",
    "    model.add(Dense(8,input_dim=10,activation='relu'))\n",
    "    #Add 1 layer with output 3 and softmax function\n",
    "    model.add(Dense(4,activation='softmax'))\n",
    "    #Compile the model using sigmoid loss function and adam optim\n",
    "    model.compile(loss='categorical_crossentropy',optimizer='adam',\n",
    "                 metrics=['accuracy'])\n",
    "    return model"
   ]
  },
  {
   "cell_type": "code",
   "execution_count": 11,
   "id": "4623f7d5",
   "metadata": {},
   "outputs": [],
   "source": [
    "#Configure the model\n",
    "estimator = KerasClassifier(build_fn=base_model,epochs=300,batch_size=200,verbose=0)"
   ]
  },
  {
   "cell_type": "code",
   "execution_count": 12,
   "id": "d6f08ad7",
   "metadata": {},
   "outputs": [
    {
     "name": "stderr",
     "output_type": "stream",
     "text": [
      "2022-11-05 08:06:48.079901: I tensorflow/core/platform/cpu_feature_guard.cc:193] This TensorFlow binary is optimized with oneAPI Deep Neural Network Library (oneDNN) to use the following CPU instructions in performance-critical operations:  SSE4.1 SSE4.2\n",
      "To enable them in other operations, rebuild TensorFlow with the appropriate compiler flags.\n",
      "2022-11-05 08:06:48.093153: I tensorflow/compiler/mlir/mlir_graph_optimization_pass.cc:354] MLIR V1 optimization pass is not enabled\n"
     ]
    },
    {
     "name": "stdout",
     "output_type": "stream",
     "text": [
      "Baseline: 80.17% (4.15%)\n"
     ]
    }
   ],
   "source": [
    "#Evaluate the model using KFold cross validation\n",
    "kfold = KFold(n_splits=10,shuffle=True)\n",
    "results = cross_val_score(estimator,X,encoded_y,cv=kfold)\n",
    "print(\"Baseline: %.2f%% (%.2f%%)\" % (results.mean()*100,results.std()*100))"
   ]
  },
  {
   "cell_type": "code",
   "execution_count": 13,
   "id": "27257c6c",
   "metadata": {},
   "outputs": [],
   "source": [
    "estimator.fit(X_train,Y_train)\n",
    "y_preds = estimator.predict(X_test)"
   ]
  },
  {
   "cell_type": "code",
   "execution_count": 14,
   "id": "80abd8a4",
   "metadata": {
    "scrolled": true
   },
   "outputs": [
    {
     "data": {
      "image/png": "[encoded data removed]",
      "text/plain": [
       "<Figure size 432x288 with 2 Axes>"
      ]
     },
     "metadata": {
      "needs_background": "light"
     },
     "output_type": "display_data"
    },
    {
     "name": "stdout",
     "output_type": "stream",
     "text": [
      "Accuracy Score 0.7391304347826086\n"
     ]
    }
   ],
   "source": [
    "cm = confusion_matrix(Y_test,y_preds)\n",
    "ax = plt.subplot()\n",
    "sns.heatmap(cm,annot=True,ax=ax)\n",
    "\n",
    "labels = target['mood']\n",
    "ax.set_xlabel('Predicted labels')\n",
    "ax.set_ylabel('True labels')\n",
    "ax.set_title('Confusion Matrix')\n",
    "ax.xaxis.set_ticklabels(labels)\n",
    "ax.yaxis.set_ticklabels(labels)\n",
    "plt.show()\n",
    "\n",
    "print(\"Accuracy Score\",accuracy_score(Y_test,y_preds))\n"
   ]
  },
  {
   "cell_type": "code",
   "execution_count": 26,
   "id": "7636299f",
   "metadata": {},
   "outputs": [
    {
     "name": "stdout",
     "output_type": "stream",
     "text": [
      "Collecting spotipy\n",
      "  Downloading spotipy-2.21.0-py3-none-any.whl (28 kB)\n",
      "Requirement already satisfied: requests>=2.25.0 in c:\\users\\javim\\anaconda3\\envs\\pythondata\\lib\\site-packages (from spotipy) (2.27.1)\n",
      "Requirement already satisfied: six>=1.15.0 in c:\\users\\javim\\anaconda3\\envs\\pythondata\\lib\\site-packages (from spotipy) (1.15.0)\n",
      "Collecting redis>=3.5.3\n",
      "  Downloading redis-4.3.4-py3-none-any.whl (246 kB)\n",
      "     -------------------------------------- 246.2/246.2 kB 3.7 MB/s eta 0:00:00\n",
      "Requirement already satisfied: urllib3>=1.26.0 in c:\\users\\javim\\anaconda3\\envs\\pythondata\\lib\\site-packages (from spotipy) (1.26.9)\n",
      "Requirement already satisfied: async-timeout>=4.0.2 in c:\\users\\javim\\anaconda3\\envs\\pythondata\\lib\\site-packages (from redis>=3.5.3->spotipy) (4.0.2)\n",
      "Requirement already satisfied: importlib-metadata>=1.0 in c:\\users\\javim\\anaconda3\\envs\\pythondata\\lib\\site-packages (from redis>=3.5.3->spotipy) (4.11.3)\n",
      "Requirement already satisfied: typing-extensions in c:\\users\\javim\\anaconda3\\envs\\pythondata\\lib\\site-packages (from redis>=3.5.3->spotipy) (4.1.1)\n",
      "Requirement already satisfied: packaging>=20.4 in c:\\users\\javim\\anaconda3\\envs\\pythondata\\lib\\site-packages (from redis>=3.5.3->spotipy) (21.3)\n",
      "Collecting deprecated>=1.2.3\n",
      "  Downloading Deprecated-1.2.13-py2.py3-none-any.whl (9.6 kB)\n",
      "Requirement already satisfied: idna<4,>=2.5 in c:\\users\\javim\\anaconda3\\envs\\pythondata\\lib\\site-packages (from requests>=2.25.0->spotipy) (3.3)\n",
      "Requirement already satisfied: charset-normalizer~=2.0.0 in c:\\users\\javim\\anaconda3\\envs\\pythondata\\lib\\site-packages (from requests>=2.25.0->spotipy) (2.0.12)\n",
      "Requirement already satisfied: certifi>=2017.4.17 in c:\\users\\javim\\anaconda3\\envs\\pythondata\\lib\\site-packages (from requests>=2.25.0->spotipy) (2021.10.8)\n",
      "Requirement already satisfied: wrapt<2,>=1.10 in c:\\users\\javim\\anaconda3\\envs\\pythondata\\lib\\site-packages (from deprecated>=1.2.3->redis>=3.5.3->spotipy) (1.14.1)\n",
      "Requirement already satisfied: zipp>=0.5 in c:\\users\\javim\\anaconda3\\envs\\pythondata\\lib\\site-packages (from importlib-metadata>=1.0->redis>=3.5.3->spotipy) (3.7.0)\n",
      "Requirement already satisfied: pyparsing!=3.0.5,>=2.0.2 in c:\\users\\javim\\anaconda3\\envs\\pythondata\\lib\\site-packages (from packaging>=20.4->redis>=3.5.3->spotipy) (2.4.7)\n",
      "Installing collected packages: deprecated, redis, spotipy\n",
      "Successfully installed deprecated-1.2.13 redis-4.3.4 spotipy-2.21.0\n",
      "Note: you may need to restart the kernel to use updated packages.\n"
     ]
    },
    {
     "name": "stderr",
     "output_type": "stream",
     "text": [
      "\n",
      "[notice] A new release of pip available: 22.2.2 -> 22.3\n",
      "[notice] To update, run: python.exe -m pip install --upgrade pip\n"
     ]
    }
   ],
   "source": [
    "pip install spotipy"
   ]
  },
  {
   "cell_type": "code",
   "execution_count": 27,
   "id": "4eed4683",
   "metadata": {},
   "outputs": [],
   "source": [
    "import spotipy\n",
    "import time\n",
    "from IPython.core.display import clear_output\n",
    "from spotipy import SpotifyClientCredentials, util"
   ]
  },
  {
   "cell_type": "code",
   "execution_count": 31,
   "id": "64b9ab3e",
   "metadata": {},
   "outputs": [],
   "source": [
    "\n",
    "client_id='c275a6334c7f46b385fd0f65112491cb'\n",
    "client_secret='57b6dcd62238445da20f6bd398a947b4'\n",
    "redirect_uri='your_url_to_redirect'\n",
    "username = 'your_username_spotify_code'\n",
    "scope = 'playlist-modify-public'\n",
    "\n",
    "#Credentials to access the Spotify Music Data\n",
    "manager = SpotifyClientCredentials(client_id,client_secret)\n",
    "sp = spotipy.Spotify(client_credentials_manager=manager)"
   ]
  },
  {
   "cell_type": "code",
   "execution_count": 32,
   "id": "9bf89dec",
   "metadata": {},
   "outputs": [],
   "source": [
    "def get_songs_features(ids):\n",
    "\n",
    "    meta = sp.track(ids)\n",
    "    features = sp.audio_features(ids)\n",
    "\n",
    "    # meta\n",
    "    name = meta['name']\n",
    "    album = meta['album']['name']\n",
    "    artist = meta['album']['artists'][0]['name']\n",
    "    release_date = meta['album']['release_date']\n",
    "    length = meta['duration_ms']\n",
    "    popularity = meta['popularity']\n",
    "    ids =  meta['id']\n",
    "\n",
    "    # features\n",
    "    acousticness = features[0]['acousticness']\n",
    "    danceability = features[0]['danceability']\n",
    "    energy = features[0]['energy']\n",
    "    instrumentalness = features[0]['instrumentalness']\n",
    "    liveness = features[0]['liveness']\n",
    "    valence = features[0]['valence']\n",
    "    loudness = features[0]['loudness']\n",
    "    speechiness = features[0]['speechiness']\n",
    "    tempo = features[0]['tempo']\n",
    "    key = features[0]['key']\n",
    "    time_signature = features[0]['time_signature']\n",
    "\n",
    "    track = [name, album, artist, ids, release_date, popularity, length, danceability, acousticness,\n",
    "            energy, instrumentalness, liveness, valence, loudness, speechiness, tempo, key, time_signature]\n",
    "    columns = ['name','album','artist','id','release_date','popularity','length','danceability','acousticness','energy','instrumentalness',\n",
    "                'liveness','valence','loudness','speechiness','tempo','key','time_signature']\n",
    "    return track,columns"
   ]
  },
  {
   "cell_type": "code",
   "execution_count": 35,
   "id": "18a9e8e1",
   "metadata": {},
   "outputs": [],
   "source": [
    "def predict_mood(id_song):\n",
    "    #Join the model and the scaler in a Pipeline\n",
    "    pip = Pipeline([('minmaxscaler',MinMaxScaler()),('keras',KerasClassifier(build_fn=base_model,epochs=300,\n",
    "                                                                             batch_size=200,verbose=0))])\n",
    "    #Fit the Pipeline\n",
    "    pip.fit(X2,encoded_y)\n",
    "\n",
    "    #Obtain the features of the song\n",
    "    preds = get_songs_features(id_song)\n",
    "    #Pre-process the features to input the Model\n",
    "    preds_features = np.array(preds[0][6:-2]).reshape(-1,1).T\n",
    "\n",
    "    #Predict the features of the song\n",
    "    results = pip.predict(preds_features)\n",
    "\n",
    "    mood = np.array(target['mood'][target['encode']==int(results)])\n",
    "    name_song = preds[0][0]\n",
    "    artist = preds[0][2]\n",
    "\n",
    "    return print(\"{0} by {1} is a {2} song\".format(name_song,artist,mood[0].upper()))\n",
    "    #print(f\"{name_song} by {artist} is a {mood[0].upper()} song\")"
   ]
  },
  {
   "cell_type": "code",
   "execution_count": 34,
   "id": "dbe0b2b4",
   "metadata": {},
   "outputs": [
    {
     "name": "stdout",
     "output_type": "stream",
     "text": [
      "Youngblood by 5 Seconds of Summer is a ENERGETIC song\n"
     ]
    }
   ],
   "source": [
    "predict_mood('2iUXsYOEPhVqEBwsqP70rE')"
   ]
  },
  {
   "cell_type": "code",
   "execution_count": null,
   "id": "5dae1d22",
   "metadata": {},
   "outputs": [],
   "source": []
  }
 ],
 "metadata": {
  "kernelspec": {
   "display_name": "Python 3 (ipykernel)",
   "language": "python",
   "name": "python3"
  },
  "language_info": {
   "codemirror_mode": {
    "name": "ipython",
    "version": 3
   },
   "file_extension": ".py",
   "mimetype": "text/x-python",
   "name": "python",
   "nbconvert_exporter": "python",
   "pygments_lexer": "ipython3",
   "version": "3.7.7"
  }
 },
 "nbformat": 4,
 "nbformat_minor": 5
}
